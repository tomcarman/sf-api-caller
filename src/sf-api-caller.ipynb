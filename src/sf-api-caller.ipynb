{
 "cells": [
  {
   "cell_type": "code",
   "execution_count": null,
   "metadata": {},
   "outputs": [],
   "source": [
    "import json\n",
    "import requests\n",
    "requests.packages.urllib3.disable_warnings()\n",
    "from dotenv import dotenv_values\n",
    "\n",
    "ACCESS_TOKEN = ''\n",
    "INSTANCE_URL = ''\n",
    "\n",
    "def run():\n",
    "    config = dotenv_values('.env')\n",
    "\n",
    "    global ACCESS_TOKEN\n",
    "    global INSTANCE_URL\n",
    "\n",
    "    ACCESS_TOKEN, INSTANCE_URL = authenticate(config)\n",
    "\n",
    "    # Example usage\n",
    "    r = call_api('/services/data/v51.0/query/?q=SELECT+Id,Name+FROM+Account', 'GET', None)\n",
    "\n",
    "    print(r.json())\n",
    "\n",
    "\n",
    "\n",
    "\n",
    "def authenticate(config):\n",
    "\n",
    "        headers = {'Content-type': 'application/x-www-form-urlencoded'}\n",
    "        \n",
    "        data = {'grant_type' : 'password',\n",
    "                'client_id' : config['CLIENT_KEY'],\n",
    "                'client_secret' : config['CLIENT_SECRET'],\n",
    "                'username' : config['USERNAME'],\n",
    "                'password' : config['PASSWORD']}\n",
    "\n",
    "        r = requests.post(url=config['AUTH_URL'], headers=headers, data=data, verify=False)\n",
    "        \n",
    "        access_token = r.json().get('access_token')\n",
    "        instance_url = r.json().get('instance_url')\n",
    "\n",
    "        return access_token, instance_url\n",
    "\n",
    "\n",
    "def call_api(endpoint, method, data):\n",
    "\n",
    "    headers = {\n",
    "        'Authorization': 'Bearer ' + ACCESS_TOKEN,\n",
    "        'Content-Type': 'application/json'\n",
    "    }\n",
    "\n",
    "    return requests.request(method, INSTANCE_URL + endpoint, headers=headers, data=data, verify=False)\n",
    "         \n",
    "\n",
    "run()"
   ]
  }
 ],
 "metadata": {
  "kernelspec": {
   "display_name": "Python 3",
   "language": "python",
   "name": "python3"
  },
  "language_info": {
   "codemirror_mode": {
    "name": "ipython",
    "version": 3
   },
   "file_extension": ".py",
   "mimetype": "text/x-python",
   "name": "python",
   "nbconvert_exporter": "python",
   "pygments_lexer": "ipython3",
   "version": "3.11.2"
  },
  "orig_nbformat": 4
 },
 "nbformat": 4,
 "nbformat_minor": 2
}
